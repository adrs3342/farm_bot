{
 "cells": [
  {
   "cell_type": "code",
   "execution_count": 6,
   "id": "74dd7d88",
   "metadata": {},
   "outputs": [],
   "source": [
    "from langchain.vectorstores import FAISS\n",
    "from langchain_openai import AzureOpenAIEmbeddings\n",
    "import os\n",
    "from dotenv import load_dotenv\n",
    "load_dotenv()\n",
    "embeddings = AzureOpenAIEmbeddings(\n",
    "                azure_deployment=os.getenv(\"AZURE_OPENAI_EMBEDDING_DEPLOYMENT\"),\n",
    "                openai_api_version=\"2024-12-01-preview\",\n",
    "                azure_endpoint=\"https://azureopenaigenai2.openai.azure.com/\",\n",
    "                openai_api_key=os.getenv(\"AZURE_OPENAI_API_KEY_VB\"),\n",
    "                chunk_size=1000\n",
    "            )\n",
    "# Load the vector store using LangChain's FAISS wrapper\n",
    "vector_store = FAISS.load_local(\"faiss_index\", embeddings, allow_dangerous_deserialization=True)\n"
   ]
  },
  {
   "cell_type": "code",
   "execution_count": 7,
   "id": "d323913e",
   "metadata": {},
   "outputs": [],
   "source": [
    "def test_vector_store(vector_store: FAISS, test_query: str = \"mushroom cultivation training\"):\n",
    "    \"\"\"Test the vector store with a sample query\"\"\"\n",
    "    print(f\"\\n🧪 Testing vector store with query: '{test_query}'\")\n",
    "    \n",
    "    try:\n",
    "        results = vector_store.similarity_search(test_query, k=3)\n",
    "        \n",
    "        print(f\"✅ Found {len(results)} similar documents:\")\n",
    "        for i, doc in enumerate(results, 1):\n",
    "            print(f\"\\n\\n{i}----------------->\")\n",
    "            print(f\"   Region: {doc.metadata['region']}\")\n",
    "            print(f\"   Topic: {doc.metadata['topic']}\")\n",
    "            print(doc.page_content)\n",
    "            \n",
    "    except Exception as e:\n",
    "        print(f\"❌ Error testing vector store: {e}\")"
   ]
  },
  {
   "cell_type": "code",
   "execution_count": 8,
   "id": "438a42a4",
   "metadata": {},
   "outputs": [
    {
     "name": "stdout",
     "output_type": "stream",
     "text": [
      "\n",
      "🧪 Testing vector store with query: 'mushroom cultivation training'\n",
      "✅ Found 3 similar documents:\n",
      "\n",
      "\n",
      "1----------------->\n",
      "   Region: Uttarakhand\n",
      "   Topic: Training / Mushroom cultivation\n",
      "\n",
      "        Full Context: This advisory is about Training / Mushroom cultivation in Uttarakhand. The question asked is \"What training programs are available for mushroom cultivation in Uttarakhand?\", and the recommended answer is \"State Horticulture Departments and local KVKs run seasonal hands-on training on spawn production, bed preparation, environmental control and pest management. Check the local KVK or horticulture extension calendar for upcoming sessions and registration procedures.\".\n",
      "\n",
      "\n",
      "\n",
      "2----------------->\n",
      "   Region: Maharashtra\n",
      "   Topic: Disease management / Groundnut\n",
      "\n",
      "        Full Context: This advisory is about Disease management / Groundnut in Maharashtra. The question asked is \"How to prevent leaf spot disease in groundnut during post-monsoon in Maharashtra?\", and the recommended answer is \"Ensure good field sanitation and drainage; at first sign of leaf spotting apply a protectant fungicide like Mancozeb as per label rate (commonly 2 g per liter) and continue sprays on a schedule if disease pressure persists. Rotate fungicide modes of action to prevent resistance.\".\n",
      "\n",
      "\n",
      "\n",
      "3----------------->\n",
      "   Region: Odisha\n",
      "   Topic: Government support / Organic farming\n",
      "\n",
      "        Full Context: This advisory is about Government support / Organic farming in Odisha. The question asked is \"How can women self-help groups in Odisha access subsidies for organic farming?\", and the recommended answer is \"SHGs can apply through NRLM/Deendayal Antyodaya Mission channels by registering the group, preparing a project proposal for organic farming, and submitting required documents to the district nodal office to access scheme-linked subsidies and input support.\".\n",
      "\n"
     ]
    }
   ],
   "source": [
    "test_vector_store(vector_store)"
   ]
  },
  {
   "cell_type": "code",
   "execution_count": 9,
   "id": "a1b27928",
   "metadata": {},
   "outputs": [],
   "source": [
    "from farm_bot import AgricultureAssistant"
   ]
  },
  {
   "cell_type": "code",
   "execution_count": null,
   "id": "4770b771",
   "metadata": {},
   "outputs": [],
   "source": [
    "assistant = AgricultureAssistant()"
   ]
  }
 ],
 "metadata": {
  "kernelspec": {
   "display_name": ".venv",
   "language": "python",
   "name": "python3"
  },
  "language_info": {
   "codemirror_mode": {
    "name": "ipython",
    "version": 3
   },
   "file_extension": ".py",
   "mimetype": "text/x-python",
   "name": "python",
   "nbconvert_exporter": "python",
   "pygments_lexer": "ipython3",
   "version": "3.10.11"
  }
 },
 "nbformat": 4,
 "nbformat_minor": 5
}
